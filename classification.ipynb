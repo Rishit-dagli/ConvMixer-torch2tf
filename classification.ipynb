{
  "nbformat": 4,
  "nbformat_minor": 0,
  "metadata": {
    "colab": {
      "name": "convmixer-classification.ipynb",
      "provenance": [],
      "authorship_tag": "ABX9TyMMPKBkDIyC86//nhZXcKIw",
      "include_colab_link": true
    },
    "kernelspec": {
      "name": "python3",
      "display_name": "Python 3"
    },
    "language_info": {
      "name": "python"
    }
  },
  "cells": [
    {
      "cell_type": "markdown",
      "metadata": {
        "id": "view-in-github",
        "colab_type": "text"
      },
      "source": [
        "<a href=\"https://colab.research.google.com/github/Rishit-dagli/ConvMixer-torch2tf/blob/main/classification.ipynb\" target=\"_parent\"><img src=\"https://colab.research.google.com/assets/colab-badge.svg\" alt=\"Open In Colab\"/></a>"
      ]
    },
    {
      "cell_type": "markdown",
      "metadata": {
        "id": "RD0B7RXrHWsh"
      },
      "source": [
        "# Classification\n",
        "\n",
        "Authors: [Rishit Dagli](https://twitter.com/rishit_dagli)\n",
        "\n",
        "In this Notebook we will use the models we converted earlier to do image classification."
      ]
    },
    {
      "cell_type": "markdown",
      "metadata": {
        "id": "CHNG3cfWHt3j"
      },
      "source": [
        "## Setup"
      ]
    },
    {
      "cell_type": "code",
      "metadata": {
        "id": "z7-pdPoYHsus"
      },
      "source": [
        "import tensorflow as tf\n",
        "import tensorflow_hub as hub\n",
        "\n",
        "from PIL import Image\n",
        "from io import BytesIO\n",
        "import matplotlib.pyplot as plt\n",
        "import numpy as np\n",
        "import requests\n",
        "import os"
      ],
      "execution_count": 1,
      "outputs": []
    },
    {
      "cell_type": "markdown",
      "metadata": {
        "id": "jLE1oNU1IDjc"
      },
      "source": [
        "## Download Model"
      ]
    },
    {
      "cell_type": "code",
      "metadata": {
        "id": "-5VP3wDbIFj6"
      },
      "source": [
        "models = {\n",
        "    \"convmixer_1536_20\": \"https://storage.googleapis.com/convmixer-hubmodels.appspot.com/convmixer_1536_20.tar.gz\",\n",
        "    \"convmixer_768_32\": \"https://storage.googleapis.com/convmixer-hubmodels.appspot.com/convmixer_768_32.tar.gz\",\n",
        "    \"convmixer_1024_20\": \"https://storage.googleapis.com/convmixer-hubmodels.appspot.com/convmixer_1024_20.tar.gz\",\n",
        "}"
      ],
      "execution_count": 2,
      "outputs": []
    },
    {
      "cell_type": "code",
      "metadata": {
        "id": "rWHLylFTHMpZ"
      },
      "source": [
        "# fmt: off\n",
        "\n",
        "#@title Choose Model variant\n",
        "model_variant = \"convmixer_1536_20\" #@param ['convmixer_1536_20', 'convmixer_768_32', 'convmixer_1024_20']\n",
        "resolution = [224, 224] \n",
        "num_classes = 1000\n",
        "os.environ['model_url'] = models[model_variant]\n",
        "os.environ['model_path'] = model_variant + \".tar.gz\"\n",
        "os.environ['model_variant'] = model_variant\n",
        "os.environ['saved_model_path'] = model_variant\n",
        "\n",
        "# fmt: on"
      ],
      "execution_count": 3,
      "outputs": []
    },
    {
      "cell_type": "code",
      "metadata": {
        "colab": {
          "base_uri": "https://localhost:8080/"
        },
        "id": "ZI1138oRIwGL",
        "outputId": "d96d0db3-5c70-4eed-cd9f-b5c0cdcf26ae"
      },
      "source": [
        "!wget $model_url"
      ],
      "execution_count": 4,
      "outputs": [
        {
          "output_type": "stream",
          "name": "stdout",
          "text": [
            "--2021-10-24 07:24:05--  https://storage.googleapis.com/convmixer-hubmodels.appspot.com/convmixer_1536_20.tar.gz\n",
            "Resolving storage.googleapis.com (storage.googleapis.com)... 64.233.189.128, 108.177.125.128, 142.251.8.128, ...\n",
            "Connecting to storage.googleapis.com (storage.googleapis.com)|64.233.189.128|:443... connected.\n",
            "HTTP request sent, awaiting response... 200 OK\n",
            "Length: 192364203 (183M) [application/x-gzip]\n",
            "Saving to: ‘convmixer_1536_20.tar.gz’\n",
            "\n",
            "convmixer_1536_20.t 100%[===================>] 183.45M  65.5MB/s    in 2.8s    \n",
            "\n",
            "2021-10-24 07:24:08 (65.5 MB/s) - ‘convmixer_1536_20.tar.gz’ saved [192364203/192364203]\n",
            "\n"
          ]
        }
      ]
    },
    {
      "cell_type": "markdown",
      "metadata": {
        "id": "Qa2ybiWDJV_M"
      },
      "source": [
        "## Extract model"
      ]
    },
    {
      "cell_type": "code",
      "metadata": {
        "colab": {
          "base_uri": "https://localhost:8080/"
        },
        "id": "PBIr0VxQIyIh",
        "outputId": "1355c267-f6bf-4f30-b1f3-17dcad75c592"
      },
      "source": [
        "!mkdir $model_variant\n",
        "%cd $model_variant\n",
        "!tar -xvf ../$model_path\n",
        "%cd .."
      ],
      "execution_count": 5,
      "outputs": [
        {
          "output_type": "stream",
          "name": "stdout",
          "text": [
            "/content/convmixer_1536_20\n",
            "assets/\n",
            "saved_model.pb\n",
            "variables/\n",
            "variables/variables.data-00000-of-00001\n",
            "variables/variables.index\n",
            "/content\n"
          ]
        }
      ]
    },
    {
      "cell_type": "markdown",
      "metadata": {
        "id": "_0KdS1fyKxUN"
      },
      "source": [
        "## Image preprocessing utilities (adapted from [Willi Gierke](https://ch.linkedin.com/in/willi-gierke))"
      ]
    },
    {
      "cell_type": "code",
      "metadata": {
        "colab": {
          "base_uri": "https://localhost:8080/"
        },
        "id": "Y8zHPPKNKwHO",
        "outputId": "1cd080e0-c347-4f55-d66e-eb9258f22408"
      },
      "source": [
        "def preprocess_image(image):\n",
        "    image = np.array(image)\n",
        "    image_resized = tf.image.resize(image, (resolution[0], resolution[1]))\n",
        "    image_resized = tf.cast(image_resized, tf.float32)\n",
        "    image_resized = image_resized / 255\n",
        "    image_resized = tf.keras.layers.Normalization(\n",
        "        mean=(0.485, 0.456, 0.406), variance=(0.052441, 0.050176, 0.050625)\n",
        "    )(image_resized)\n",
        "    return tf.expand_dims(image_resized, 0).numpy()\n",
        "\n",
        "\n",
        "def load_image_from_url(url):\n",
        "    response = requests.get(url)\n",
        "    image = Image.open(BytesIO(response.content))\n",
        "    image = preprocess_image(image)\n",
        "    return image\n",
        "    \n",
        "!wget https://storage.googleapis.com/bit_models/ilsvrc2012_wordnet_lemmas.txt -O ilsvrc2012_wordnet_lemmas.txt"
      ],
      "execution_count": 6,
      "outputs": [
        {
          "output_type": "stream",
          "name": "stdout",
          "text": [
            "--2021-10-24 07:24:11--  https://storage.googleapis.com/bit_models/ilsvrc2012_wordnet_lemmas.txt\n",
            "Resolving storage.googleapis.com (storage.googleapis.com)... 142.251.8.128, 74.125.23.128, 74.125.203.128, ...\n",
            "Connecting to storage.googleapis.com (storage.googleapis.com)|142.251.8.128|:443... connected.\n",
            "HTTP request sent, awaiting response... 200 OK\n",
            "Length: 21675 (21K) [text/plain]\n",
            "Saving to: ‘ilsvrc2012_wordnet_lemmas.txt’\n",
            "\n",
            "ilsvrc2012_wordnet_ 100%[===================>]  21.17K  --.-KB/s    in 0s      \n",
            "\n",
            "2021-10-24 07:24:12 (54.5 MB/s) - ‘ilsvrc2012_wordnet_lemmas.txt’ saved [21675/21675]\n",
            "\n"
          ]
        }
      ]
    },
    {
      "cell_type": "markdown",
      "metadata": {
        "id": "ZT49oH5GLfZh"
      },
      "source": [
        "## Load Image and infer"
      ]
    },
    {
      "cell_type": "code",
      "metadata": {
        "id": "dtT1LXFhLHbM"
      },
      "source": [
        "model = hub.load(model_variant)"
      ],
      "execution_count": 7,
      "outputs": []
    },
    {
      "cell_type": "code",
      "metadata": {
        "id": "XnTNhKz-LjUp"
      },
      "source": [
        "with open(\"ilsvrc2012_wordnet_lemmas.txt\", \"r\") as f:\n",
        "    lines = f.readlines()\n",
        "imagenet_int_to_str = [line.rstrip() for line in lines]\n",
        "\n",
        "def infer_on_image(img_url, expected_label):\n",
        "    image = load_image_from_url(img_url)\n",
        "    predictions = model.signatures[\"serving_default\"](tf.constant(image))\n",
        "    logits = predictions[\"output\"][0]\n",
        "    predicted_label = imagenet_int_to_str[int(np.argmax(logits))]\n",
        "    assert (\n",
        "        predicted_label == expected_label\n",
        "    ), f\"Expected {expected_label} but was {predicted_label}\""
      ],
      "execution_count": 8,
      "outputs": []
    },
    {
      "cell_type": "markdown",
      "metadata": {
        "id": "96eqDoVyLlux"
      },
      "source": [
        "Let's try 5 images"
      ]
    },
    {
      "cell_type": "code",
      "metadata": {
        "id": "XeDPO2q3LnAx"
      },
      "source": [
        "infer_on_image(img_url = \"https://i.imgur.com/mH0Wrvb.jpg\", expected_label = \"goldfish, Carassius_auratus\")\n",
        "infer_on_image(img_url = \"https://i.imgur.com/A5m4ZG1.jpg\", expected_label = \"scorpion\")\n",
        "infer_on_image(img_url = \"https://i.imgur.com/faOAEFg.jpg\", expected_label = \"leatherback_turtle, leatherback, leathery_turtle, Dermochelys_coriacea\")\n",
        "infer_on_image(img_url = \"https://i.imgur.com/lfhdaSi.jpg\", expected_label = \"Siamese_cat, Siamese\")\n",
        "infer_on_image(img_url = \"https://i.imgur.com/Qwa8wHX.jpg\", expected_label = \"boa_constrictor, Constrictor_constrictor\")"
      ],
      "execution_count": 9,
      "outputs": []
    }
  ]
}